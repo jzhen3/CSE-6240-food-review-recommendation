{
  "nbformat": 4,
  "nbformat_minor": 0,
  "metadata": {
    "colab": {
      "provenance": []
    },
    "kernelspec": {
      "name": "python3",
      "display_name": "Python 3"
    },
    "language_info": {
      "name": "python"
    },
    "gpuClass": "premium",
    "accelerator": "GPU"
  },
  "cells": [
    {
      "cell_type": "code",
      "execution_count": null,
      "metadata": {
        "id": "GGeWnwMnN7fS"
      },
      "outputs": [],
      "source": [
        "import pandas as pd\n",
        "import numpy as np\n",
        "import tensorflow as tf\n",
        "import keras\n",
        "from sklearn.model_selection import train_test_split\n",
        "from sklearn.preprocessing import LabelEncoder\n",
        "from keras import layers\n",
        "from keras.regularizers import l2\n",
        "import matplotlib.pyplot as plt\n",
        "import requests\n",
        "from io import StringIO\n",
        "import warnings\n",
        "warnings.filterwarnings(\"ignore\")"
      ]
    },
    {
      "cell_type": "code",
      "source": [
        "url = 'https://dl.dropboxusercontent.com/s/jm9lb705vk5itk9/Reviews.csv'\n",
        "response = requests.get(url)\n",
        "\n",
        "if response.status_code == 200:\n",
        "    csv_data = response.content.decode('utf-8')\n",
        "    rawData = pd.read_csv(StringIO(csv_data), engine='python')\n",
        "else:\n",
        "    print(f\"Error downloading the file: {response.status_code}\")"
      ],
      "metadata": {
        "id": "tlBhcKGtQ7C6"
      },
      "execution_count": null,
      "outputs": []
    },
    {
      "cell_type": "code",
      "source": [
        "rawData.head()"
      ],
      "metadata": {
        "colab": {
          "base_uri": "https://localhost:8080/",
          "height": 206
        },
        "id": "bKMc5b7LR2c9",
        "outputId": "976e2e93-67eb-4fe8-a6a9-5324e91be013"
      },
      "execution_count": null,
      "outputs": [
        {
          "output_type": "execute_result",
          "data": {
            "text/plain": [
              "   Id   ProductId          UserId                      ProfileName  \\\n",
              "0   1  B001E4KFG0  A3SGXH7AUHU8GW                       delmartian   \n",
              "1   2  B00813GRG4  A1D87F6ZCVE5NK                           dll pa   \n",
              "2   3  B000LQOCH0   ABXLMWJIXXAIN  Natalia Corres \"Natalia Corres\"   \n",
              "3   4  B000UA0QIQ  A395BORC6FGVXV                             Karl   \n",
              "4   5  B006K2ZZ7K  A1UQRSCLF8GW1T    Michael D. Bigham \"M. Wassir\"   \n",
              "\n",
              "   HelpfulnessNumerator  HelpfulnessDenominator  Score        Time  \\\n",
              "0                     1                       1      5  1303862400   \n",
              "1                     0                       0      1  1346976000   \n",
              "2                     1                       1      4  1219017600   \n",
              "3                     3                       3      2  1307923200   \n",
              "4                     0                       0      5  1350777600   \n",
              "\n",
              "                 Summary                                               Text  \n",
              "0  Good Quality Dog Food  I have bought several of the Vitality canned d...  \n",
              "1      Not as Advertised  Product arrived labeled as Jumbo Salted Peanut...  \n",
              "2  \"Delight\" says it all  This is a confection that has been around a fe...  \n",
              "3         Cough Medicine  If you are looking for the secret ingredient i...  \n",
              "4            Great taffy  Great taffy at a great price.  There was a wid...  "
            ],
            "text/html": [
              "\n",
              "  <div id=\"df-5872cf59-7e7f-4c03-93a8-576af7390ffe\">\n",
              "    <div class=\"colab-df-container\">\n",
              "      <div>\n",
              "<style scoped>\n",
              "    .dataframe tbody tr th:only-of-type {\n",
              "        vertical-align: middle;\n",
              "    }\n",
              "\n",
              "    .dataframe tbody tr th {\n",
              "        vertical-align: top;\n",
              "    }\n",
              "\n",
              "    .dataframe thead th {\n",
              "        text-align: right;\n",
              "    }\n",
              "</style>\n",
              "<table border=\"1\" class=\"dataframe\">\n",
              "  <thead>\n",
              "    <tr style=\"text-align: right;\">\n",
              "      <th></th>\n",
              "      <th>Id</th>\n",
              "      <th>ProductId</th>\n",
              "      <th>UserId</th>\n",
              "      <th>ProfileName</th>\n",
              "      <th>HelpfulnessNumerator</th>\n",
              "      <th>HelpfulnessDenominator</th>\n",
              "      <th>Score</th>\n",
              "      <th>Time</th>\n",
              "      <th>Summary</th>\n",
              "      <th>Text</th>\n",
              "    </tr>\n",
              "  </thead>\n",
              "  <tbody>\n",
              "    <tr>\n",
              "      <th>0</th>\n",
              "      <td>1</td>\n",
              "      <td>B001E4KFG0</td>\n",
              "      <td>A3SGXH7AUHU8GW</td>\n",
              "      <td>delmartian</td>\n",
              "      <td>1</td>\n",
              "      <td>1</td>\n",
              "      <td>5</td>\n",
              "      <td>1303862400</td>\n",
              "      <td>Good Quality Dog Food</td>\n",
              "      <td>I have bought several of the Vitality canned d...</td>\n",
              "    </tr>\n",
              "    <tr>\n",
              "      <th>1</th>\n",
              "      <td>2</td>\n",
              "      <td>B00813GRG4</td>\n",
              "      <td>A1D87F6ZCVE5NK</td>\n",
              "      <td>dll pa</td>\n",
              "      <td>0</td>\n",
              "      <td>0</td>\n",
              "      <td>1</td>\n",
              "      <td>1346976000</td>\n",
              "      <td>Not as Advertised</td>\n",
              "      <td>Product arrived labeled as Jumbo Salted Peanut...</td>\n",
              "    </tr>\n",
              "    <tr>\n",
              "      <th>2</th>\n",
              "      <td>3</td>\n",
              "      <td>B000LQOCH0</td>\n",
              "      <td>ABXLMWJIXXAIN</td>\n",
              "      <td>Natalia Corres \"Natalia Corres\"</td>\n",
              "      <td>1</td>\n",
              "      <td>1</td>\n",
              "      <td>4</td>\n",
              "      <td>1219017600</td>\n",
              "      <td>\"Delight\" says it all</td>\n",
              "      <td>This is a confection that has been around a fe...</td>\n",
              "    </tr>\n",
              "    <tr>\n",
              "      <th>3</th>\n",
              "      <td>4</td>\n",
              "      <td>B000UA0QIQ</td>\n",
              "      <td>A395BORC6FGVXV</td>\n",
              "      <td>Karl</td>\n",
              "      <td>3</td>\n",
              "      <td>3</td>\n",
              "      <td>2</td>\n",
              "      <td>1307923200</td>\n",
              "      <td>Cough Medicine</td>\n",
              "      <td>If you are looking for the secret ingredient i...</td>\n",
              "    </tr>\n",
              "    <tr>\n",
              "      <th>4</th>\n",
              "      <td>5</td>\n",
              "      <td>B006K2ZZ7K</td>\n",
              "      <td>A1UQRSCLF8GW1T</td>\n",
              "      <td>Michael D. Bigham \"M. Wassir\"</td>\n",
              "      <td>0</td>\n",
              "      <td>0</td>\n",
              "      <td>5</td>\n",
              "      <td>1350777600</td>\n",
              "      <td>Great taffy</td>\n",
              "      <td>Great taffy at a great price.  There was a wid...</td>\n",
              "    </tr>\n",
              "  </tbody>\n",
              "</table>\n",
              "</div>\n",
              "      <button class=\"colab-df-convert\" onclick=\"convertToInteractive('df-5872cf59-7e7f-4c03-93a8-576af7390ffe')\"\n",
              "              title=\"Convert this dataframe to an interactive table.\"\n",
              "              style=\"display:none;\">\n",
              "        \n",
              "  <svg xmlns=\"http://www.w3.org/2000/svg\" height=\"24px\"viewBox=\"0 0 24 24\"\n",
              "       width=\"24px\">\n",
              "    <path d=\"M0 0h24v24H0V0z\" fill=\"none\"/>\n",
              "    <path d=\"M18.56 5.44l.94 2.06.94-2.06 2.06-.94-2.06-.94-.94-2.06-.94 2.06-2.06.94zm-11 1L8.5 8.5l.94-2.06 2.06-.94-2.06-.94L8.5 2.5l-.94 2.06-2.06.94zm10 10l.94 2.06.94-2.06 2.06-.94-2.06-.94-.94-2.06-.94 2.06-2.06.94z\"/><path d=\"M17.41 7.96l-1.37-1.37c-.4-.4-.92-.59-1.43-.59-.52 0-1.04.2-1.43.59L10.3 9.45l-7.72 7.72c-.78.78-.78 2.05 0 2.83L4 21.41c.39.39.9.59 1.41.59.51 0 1.02-.2 1.41-.59l7.78-7.78 2.81-2.81c.8-.78.8-2.07 0-2.86zM5.41 20L4 18.59l7.72-7.72 1.47 1.35L5.41 20z\"/>\n",
              "  </svg>\n",
              "      </button>\n",
              "      \n",
              "  <style>\n",
              "    .colab-df-container {\n",
              "      display:flex;\n",
              "      flex-wrap:wrap;\n",
              "      gap: 12px;\n",
              "    }\n",
              "\n",
              "    .colab-df-convert {\n",
              "      background-color: #E8F0FE;\n",
              "      border: none;\n",
              "      border-radius: 50%;\n",
              "      cursor: pointer;\n",
              "      display: none;\n",
              "      fill: #1967D2;\n",
              "      height: 32px;\n",
              "      padding: 0 0 0 0;\n",
              "      width: 32px;\n",
              "    }\n",
              "\n",
              "    .colab-df-convert:hover {\n",
              "      background-color: #E2EBFA;\n",
              "      box-shadow: 0px 1px 2px rgba(60, 64, 67, 0.3), 0px 1px 3px 1px rgba(60, 64, 67, 0.15);\n",
              "      fill: #174EA6;\n",
              "    }\n",
              "\n",
              "    [theme=dark] .colab-df-convert {\n",
              "      background-color: #3B4455;\n",
              "      fill: #D2E3FC;\n",
              "    }\n",
              "\n",
              "    [theme=dark] .colab-df-convert:hover {\n",
              "      background-color: #434B5C;\n",
              "      box-shadow: 0px 1px 3px 1px rgba(0, 0, 0, 0.15);\n",
              "      filter: drop-shadow(0px 1px 2px rgba(0, 0, 0, 0.3));\n",
              "      fill: #FFFFFF;\n",
              "    }\n",
              "  </style>\n",
              "\n",
              "      <script>\n",
              "        const buttonEl =\n",
              "          document.querySelector('#df-5872cf59-7e7f-4c03-93a8-576af7390ffe button.colab-df-convert');\n",
              "        buttonEl.style.display =\n",
              "          google.colab.kernel.accessAllowed ? 'block' : 'none';\n",
              "\n",
              "        async function convertToInteractive(key) {\n",
              "          const element = document.querySelector('#df-5872cf59-7e7f-4c03-93a8-576af7390ffe');\n",
              "          const dataTable =\n",
              "            await google.colab.kernel.invokeFunction('convertToInteractive',\n",
              "                                                     [key], {});\n",
              "          if (!dataTable) return;\n",
              "\n",
              "          const docLinkHtml = 'Like what you see? Visit the ' +\n",
              "            '<a target=\"_blank\" href=https://colab.research.google.com/notebooks/data_table.ipynb>data table notebook</a>'\n",
              "            + ' to learn more about interactive tables.';\n",
              "          element.innerHTML = '';\n",
              "          dataTable['output_type'] = 'display_data';\n",
              "          await google.colab.output.renderOutput(dataTable, element);\n",
              "          const docLink = document.createElement('div');\n",
              "          docLink.innerHTML = docLinkHtml;\n",
              "          element.appendChild(docLink);\n",
              "        }\n",
              "      </script>\n",
              "    </div>\n",
              "  </div>\n",
              "  "
            ]
          },
          "metadata": {},
          "execution_count": 13
        }
      ]
    },
    {
      "cell_type": "code",
      "source": [
        "# Will only include relevant columns\n",
        "data = rawData[['UserId', 'ProductId', 'Score']]"
      ],
      "metadata": {
        "id": "q7Ll0wdlUAKI"
      },
      "execution_count": null,
      "outputs": []
    },
    {
      "cell_type": "code",
      "source": [
        "#Preprocessing\n",
        "user_encoder = LabelEncoder()\n",
        "product_encoder = LabelEncoder()\n",
        "\n",
        "data['UserId'] = user_encoder.fit_transform(data['UserId'])\n",
        "data['ProductId'] = product_encoder.fit_transform(data['ProductId'])\n",
        "train_data, test_data = train_test_split(data, test_size=0.2, random_state=42)\n",
        "\n",
        "#Training\n",
        "user_ids_train = train_data['UserId'].values\n",
        "item_ids_train = train_data['ProductId'].values\n",
        "labels_train = train_data['Score'].values / 5.0\n",
        "\n",
        "#Test\n",
        "user_ids_test = test_data['UserId'].values\n",
        "item_ids_test = test_data['ProductId'].values\n",
        "labels_test = test_data['Score'].values / 5.0\n",
        "\n",
        "num_users = len(user_encoder.classes_)\n",
        "num_items = len(product_encoder.classes_)"
      ],
      "metadata": {
        "id": "erbDQWlJXTRR"
      },
      "execution_count": null,
      "outputs": []
    },
    {
      "cell_type": "code",
      "source": [
        "class NeuMF(tf.keras.Model):\n",
        "    def __init__(self, num_users, num_items, latent_dim_gmf, latent_dim_mlp, layers_mlp):\n",
        "        super(NeuMF, self).__init__()\n",
        "        self.num_users = num_users\n",
        "        self.num_items = num_items\n",
        "        self.latent_dim_gmf = latent_dim_gmf\n",
        "        self.latent_dim_mlp = latent_dim_mlp\n",
        "\n",
        "        self.user_embedding_gmf = layers.Embedding(num_users, latent_dim_gmf, name='user_embedding_gmf')\n",
        "        self.item_embedding_gmf = layers.Embedding(num_items, latent_dim_gmf, name='item_embedding_gmf')\n",
        "\n",
        "        self.user_embedding_mlp = layers.Embedding(num_users, latent_dim_mlp, name='user_embedding_mlp')\n",
        "        self.item_embedding_mlp = layers.Embedding(num_items, latent_dim_mlp, name='item_embedding_mlp')\n",
        "\n",
        "        self.mlp_layers = [layers.Dense(layer, activation='relu') for layer in layers_mlp]\n",
        "\n",
        "        self.final_layer = layers.Dense(1, activation='sigmoid')\n",
        "\n",
        "    def call(self, inputs):\n",
        "        user_indices, item_indices = inputs\n",
        "\n",
        "        # GMF part\n",
        "        user_latent_gmf = self.user_embedding_gmf(user_indices)\n",
        "        item_latent_gmf = self.item_embedding_gmf(item_indices)\n",
        "        gmf_output = tf.multiply(user_latent_gmf, item_latent_gmf)\n",
        "\n",
        "        # MLP part\n",
        "        user_latent_mlp = self.user_embedding_mlp(user_indices)\n",
        "        item_latent_mlp = self.item_embedding_mlp(item_indices)\n",
        "        mlp_input = tf.concat([user_latent_mlp, item_latent_mlp], axis=-1)\n",
        "\n",
        "        for layer in self.mlp_layers:\n",
        "            mlp_input = layer(mlp_input)\n",
        "        mlp_output = mlp_input\n",
        "\n",
        "        # NeuMF part\n",
        "        neumf_input = tf.concat([gmf_output, mlp_output], axis=-1)\n",
        "        neumf_output = self.final_layer(neumf_input)\n",
        "\n",
        "        return neumf_output"
      ],
      "metadata": {
        "id": "kfPia3eGSa9T"
      },
      "execution_count": null,
      "outputs": []
    },
    {
      "cell_type": "code",
      "source": [
        "latent_dim_gmf = 8\n",
        "latent_dim_mlp = 16\n",
        "layers_mlp = [32, 16, 8]\n",
        "\n",
        "# Define RMSE\n",
        "def root_mean_squared_error(y_true, y_pred):\n",
        "    return tf.sqrt(tf.reduce_mean(tf.square(y_true * 5.0 - y_pred * 5.0)))\n",
        "\n",
        "model = NeuMF(num_users, num_items, latent_dim_gmf, latent_dim_mlp, layers_mlp)\n",
        "\n",
        "model.compile(optimizer=tf.keras.optimizers.Adam(), loss=root_mean_squared_error)\n",
        "# Training\n",
        "history = model.fit([user_ids_train, item_ids_train], labels_train, batch_size=128, epochs=4, validation_split=0.2)\n"
      ],
      "metadata": {
        "colab": {
          "base_uri": "https://localhost:8080/"
        },
        "id": "oX8qUYckTtOW",
        "outputId": "ed4ed6cc-69f9-4ff1-cb4f-6b4c1cb406a1"
      },
      "execution_count": null,
      "outputs": [
        {
          "output_type": "stream",
          "name": "stdout",
          "text": [
            "Epoch 1/4\n",
            "2843/2843 [==============================] - 23s 7ms/step - loss: 1.2048 - val_loss: 1.0999\n",
            "Epoch 2/4\n",
            "2843/2843 [==============================] - 17s 6ms/step - loss: 0.7756 - val_loss: 1.0844\n",
            "Epoch 3/4\n",
            "2843/2843 [==============================] - 16s 6ms/step - loss: 0.5233 - val_loss: 1.0939\n",
            "Epoch 4/4\n",
            "2843/2843 [==============================] - 16s 5ms/step - loss: 0.3765 - val_loss: 1.0896\n"
          ]
        }
      ]
    },
    {
      "cell_type": "code",
      "source": [
        "plt.plot(history.history['loss'])\n",
        "plt.plot(history.history['val_loss'])\n",
        "plt.title('Model loss')\n",
        "plt.ylabel('Loss (RMSE)')\n",
        "plt.xlabel('Epoch')\n",
        "plt.legend(['Training', 'Validation'], loc='upper left')\n",
        "plt.show()"
      ],
      "metadata": {
        "id": "kR5-pYzqA1ms",
        "colab": {
          "base_uri": "https://localhost:8080/",
          "height": 472
        },
        "outputId": "3e0a4a42-02c0-422c-d1b8-f4d2a14064c7"
      },
      "execution_count": null,
      "outputs": [
        {
          "output_type": "display_data",
          "data": {
            "text/plain": [
              "<Figure size 640x480 with 1 Axes>"
            ],
            "image/png": "[encoded data removed]"
          },
          "metadata": {}
        }
      ]
    },
    {
      "cell_type": "code",
      "source": [
        "test_loss = model.evaluate([user_ids_test, item_ids_test], labels_test)\n",
        "\n",
        "print(f\"Test loss: {test_loss}\")"
      ],
      "metadata": {
        "id": "M9lsyN9Hc4FX",
        "colab": {
          "base_uri": "https://localhost:8080/"
        },
        "outputId": "13e04873-dc67-408d-b8a7-c73a16cb934a"
      },
      "execution_count": null,
      "outputs": [
        {
          "output_type": "stream",
          "name": "stdout",
          "text": [
            "3553/3553 [==============================] - 8s 2ms/step - loss: 1.0662\n",
            "Test loss: 1.0661903619766235\n"
          ]
        }
      ]
    },
    {
      "cell_type": "code",
      "source": [
        "predictions = model.predict([user_ids_test, item_ids_test])\n",
        "predictions = np.squeeze(predictions) * 5.0  # Scale back\n",
        "\n",
        "# Prediction results\n",
        "for i in range(50):\n",
        "    print(f\"User {user_encoder.inverse_transform([user_ids_test[i]])[0]}, \"\n",
        "          f\"Item {product_encoder.inverse_transform([item_ids_test[i]])[0]}, \"\n",
        "          f\"True Rating: {test_data.iloc[i]['Score']}, \"\n",
        "          f\"Predicted Rating: {predictions[i]:.1f}\")"
      ],
      "metadata": {
        "id": "t_1cu9eLc_Bs",
        "colab": {
          "base_uri": "https://localhost:8080/"
        },
        "outputId": "a9481298-484a-494d-8702-cfc63d968aa2"
      },
      "execution_count": null,
      "outputs": [
        {
          "output_type": "stream",
          "name": "stdout",
          "text": [
            "3553/3553 [==============================] - 6s 2ms/step\n",
            "User A1L01D2BD3RKVO, Item B000EVG8J2, True Rating: 5, Predicted Rating: 4.7\n",
            "User A3U62RE5XZDP0G, Item B0000BXJIS, True Rating: 5, Predicted Rating: 5.0\n",
            "User AOXC0JQQZGGB6, Item B008FHUFAU, True Rating: 3, Predicted Rating: 3.0\n",
            "User A3PWPNZVMNX3PA, Item B006BXV14E, True Rating: 2, Predicted Rating: 2.9\n",
            "User A1XNZ7PCE45KK7, Item B007I7Z3Z0, True Rating: 5, Predicted Rating: 4.9\n",
            "User A1XWK6ZWTW4C3B, Item B000FKMNSM, True Rating: 4, Predicted Rating: 3.4\n",
            "User A1ZXQSWCMQ74PV, Item B000XEV9YE, True Rating: 5, Predicted Rating: 4.1\n",
            "User AKUB840XVHT3, Item B000F4H5FO, True Rating: 5, Predicted Rating: 4.7\n",
            "User A1FPQ54AIB26L0, Item B0041CIR62, True Rating: 4, Predicted Rating: 4.5\n",
            "User A1LKBZ7U9DSF4K, Item B001LQRKC8, True Rating: 5, Predicted Rating: 4.8\n",
            "User AR3EVUQF0AC7R, Item B005VOOL00, True Rating: 4, Predicted Rating: 4.0\n",
            "User A14AZWOLGK6MD3, Item B000KY6NQG, True Rating: 5, Predicted Rating: 4.9\n",
            "User AS2I57PJ83KNK, Item B005XB5K0G, True Rating: 5, Predicted Rating: 5.0\n",
            "User A2GZ3RYHGPXR2U, Item B006N3I7S0, True Rating: 4, Predicted Rating: 4.0\n",
            "User A1ZANX10ZF6LMO, Item B001P3NU30, True Rating: 1, Predicted Rating: 4.1\n",
            "User A39NTI5NUNFJ48, Item B0000GHNWM, True Rating: 5, Predicted Rating: 5.0\n",
            "User A2OL5WLCNZVD9K, Item B000GZSDZI, True Rating: 5, Predicted Rating: 4.0\n",
            "User ASOCGX1R3ZX8D, Item B001EO5TRK, True Rating: 5, Predicted Rating: 4.6\n",
            "User A258FXO3O8EQQE, Item B003K2EXI0, True Rating: 5, Predicted Rating: 5.0\n",
            "User A3LBK3TI89AT4C, Item B003B3OOPA, True Rating: 5, Predicted Rating: 4.3\n",
            "User A1VKINZLHRJDB7, Item B0001QNMZ8, True Rating: 4, Predicted Rating: 5.0\n",
            "User A24E0CIZBWMO4L, Item B000L8FZMY, True Rating: 5, Predicted Rating: 4.1\n",
            "User A1IRQWXJ4CWBW, Item B003TC7WN4, True Rating: 1, Predicted Rating: 1.0\n",
            "User A1YAHULOZAY6IU, Item B000B6CYP2, True Rating: 5, Predicted Rating: 4.3\n",
            "User A3C89YOH5NT8D3, Item B0062A87HA, True Rating: 5, Predicted Rating: 5.0\n",
            "User A17SLI9GXC0LHU, Item B004R9GFJU, True Rating: 5, Predicted Rating: 4.9\n",
            "User A3U0YIPTZX8DZ4, Item B008XOKY1U, True Rating: 4, Predicted Rating: 4.3\n",
            "User A30JOAGFYY7IM1, Item B0000VM8TK, True Rating: 1, Predicted Rating: 3.4\n",
            "User A1QVLJ260F6SZD, Item B005GRCWDU, True Rating: 5, Predicted Rating: 5.0\n",
            "User AKWP7LOOOF3NB, Item B002QWP89S, True Rating: 4, Predicted Rating: 4.1\n",
            "User AP2XB11SRN4B5, Item B000KV7ZGQ, True Rating: 1, Predicted Rating: 2.9\n",
            "User A1G57UG6WFP7EW, Item B003GSVSWW, True Rating: 5, Predicted Rating: 3.4\n",
            "User ACWNT6NN91Q3J, Item B000EI2LLO, True Rating: 5, Predicted Rating: 5.0\n",
            "User A1DTWKFY5VBGJU, Item B000CQBZQK, True Rating: 4, Predicted Rating: 3.9\n",
            "User A221NIW05HBOLX, Item B007TJGZ4A, True Rating: 5, Predicted Rating: 4.6\n",
            "User A8LJLTSZ57R2Y, Item B000BF3AL0, True Rating: 3, Predicted Rating: 4.1\n",
            "User A37FEBK40S8BRW, Item B00872572E, True Rating: 3, Predicted Rating: 3.9\n",
            "User AG0PUADP81ADK, Item B00213EU7I, True Rating: 5, Predicted Rating: 4.8\n",
            "User A3TJ7A7FO4GM47, Item B001QEEXCK, True Rating: 5, Predicted Rating: 5.0\n",
            "User A2K9GNMX6ZX93M, Item B000TMS0QA, True Rating: 5, Predicted Rating: 4.0\n",
            "User A1QBOC76MIOJYP, Item B0029NLV8G, True Rating: 5, Predicted Rating: 4.6\n",
            "User A2NNK0HTZUW3P6, Item B0007SN7B4, True Rating: 5, Predicted Rating: 4.6\n",
            "User A35W3JQYP0M655, Item B005VGZ49U, True Rating: 5, Predicted Rating: 4.1\n",
            "User A136BYILR08J32, Item B002OVICJO, True Rating: 5, Predicted Rating: 3.9\n",
            "User A2EO70A3IS220F, Item B001QY04Q4, True Rating: 5, Predicted Rating: 4.2\n",
            "User A28DQF01VXVK41, Item B000EVMNO6, True Rating: 5, Predicted Rating: 4.5\n",
            "User A2BFA2D3MC3LL2, Item B001M1DUDU, True Rating: 5, Predicted Rating: 3.5\n",
            "User A35T8A43KFWD00, Item B000G32YEG, True Rating: 3, Predicted Rating: 4.4\n",
            "User AJ37ZHM9OJK2R, Item B0000CERZK, True Rating: 1, Predicted Rating: 4.5\n",
            "User APNSHQ72ZIKOV, Item B0013A0QXC, True Rating: 5, Predicted Rating: 5.0\n"
          ]
        }
      ]
    }
  ]
}