{
  "cells": [
    {
      "cell_type": "code",
      "execution_count": null,
      "metadata": {
        "id": "FiL4TCEN2eAJ"
      },
      "outputs": [],
      "source": [
        "import numpy as np\n",
        "import pandas as pd\n",
        "import matplotlib.pyplot as plt\n",
        "import nltk\n",
        "from surprise import Dataset, Reader\n",
        "from surprise import SVDpp\n",
        "from surprise.model_selection import GridSearchCV, cross_validate"
      ]
    },
    {
      "cell_type": "code",
      "execution_count": null,
      "metadata": {
        "colab": {
          "base_uri": "https://localhost:8080/"
        },
        "id": "dhz3psfgSdh2",
        "outputId": "a1236fdc-9fb2-4ab0-d4fb-551cfc1fa42c"
      },
      "outputs": [
        {
          "output_type": "stream",
          "name": "stdout",
          "text": [
            "Looking in indexes: https://pypi.org/simple, https://us-python.pkg.dev/colab-wheels/public/simple/\n",
            "Collecting scikit-surprise\n",
            "  Downloading scikit-surprise-1.1.3.tar.gz (771 kB)\n",
            "\u001b[2K     \u001b[90m━━━━━━━━━━━━━━━━━━━━━━━━━━━━━━━━━━━━━━\u001b[0m \u001b[32m772.0/772.0 kB\u001b[0m \u001b[31m28.0 MB/s\u001b[0m eta \u001b[36m0:00:00\u001b[0m\n",
            "\u001b[?25h  Preparing metadata (setup.py) ... \u001b[?25l\u001b[?25hdone\n",
            "Requirement already satisfied: joblib>=1.0.0 in /usr/local/lib/python3.9/dist-packages (from scikit-surprise) (1.2.0)\n",
            "Requirement already satisfied: numpy>=1.17.3 in /usr/local/lib/python3.9/dist-packages (from scikit-surprise) (1.22.4)\n",
            "Requirement already satisfied: scipy>=1.3.2 in /usr/local/lib/python3.9/dist-packages (from scikit-surprise) (1.10.1)\n",
            "Building wheels for collected packages: scikit-surprise\n",
            "  Building wheel for scikit-surprise (setup.py) ... \u001b[?25l\u001b[?25hdone\n",
            "  Created wheel for scikit-surprise: filename=scikit_surprise-1.1.3-cp39-cp39-linux_x86_64.whl size=3195838 sha256=fa8d927a95256378cf0a3f80c07d06e76c2733b753a6bc31dc0295b423ff3a9f\n",
            "  Stored in directory: /root/.cache/pip/wheels/c6/3a/46/9b17b3512bdf283c6cb84f59929cdd5199d4e754d596d22784\n",
            "Successfully built scikit-surprise\n",
            "Installing collected packages: scikit-surprise\n",
            "Successfully installed scikit-surprise-1.1.3\n"
          ]
        }
      ],
      "source": [
        "pip install scikit-surprise"
      ]
    },
    {
      "cell_type": "code",
      "execution_count": null,
      "metadata": {
        "colab": {
          "base_uri": "https://localhost:8080/"
        },
        "id": "KISE83qX1GCq",
        "outputId": "e40d42d8-3fa2-4848-e33b-491ab9d648fe"
      },
      "outputs": [
        {
          "output_type": "stream",
          "name": "stdout",
          "text": [
            "Mounted at /content/gdrive\n"
          ]
        }
      ],
      "source": [
        "from google.colab import drive\n",
        "drive.mount(\"/content/gdrive\", force_remount=True)"
      ]
    },
    {
      "cell_type": "code",
      "execution_count": null,
      "metadata": {
        "colab": {
          "base_uri": "https://localhost:8080/",
          "height": 112
        },
        "id": "C1LGncjO2tcN",
        "outputId": "cee55c90-dbfa-4be4-f682-09debdefb0df"
      },
      "outputs": [
        {
          "output_type": "execute_result",
          "data": {
            "text/plain": [
              "   Id   ProductId          UserId ProfileName  HelpfulnessNumerator  \\\n",
              "0   1  B001E4KFG0  A3SGXH7AUHU8GW  delmartian                     1   \n",
              "1   2  B00813GRG4  A1D87F6ZCVE5NK      dll pa                     0   \n",
              "\n",
              "   HelpfulnessDenominator  Score        Time                Summary  \\\n",
              "0                       1      5  1303862400  Good Quality Dog Food   \n",
              "1                       0      1  1346976000      Not as Advertised   \n",
              "\n",
              "                                                Text  \n",
              "0  I have bought several of the Vitality canned d...  \n",
              "1  Product arrived labeled as Jumbo Salted Peanut...  "
            ],
            "text/html": [
              "\n",
              "  <div id=\"df-2afa6101-cbcb-4027-a112-7267a6aed43d\">\n",
              "    <div class=\"colab-df-container\">\n",
              "      <div>\n",
              "<style scoped>\n",
              "    .dataframe tbody tr th:only-of-type {\n",
              "        vertical-align: middle;\n",
              "    }\n",
              "\n",
              "    .dataframe tbody tr th {\n",
              "        vertical-align: top;\n",
              "    }\n",
              "\n",
              "    .dataframe thead th {\n",
              "        text-align: right;\n",
              "    }\n",
              "</style>\n",
              "<table border=\"1\" class=\"dataframe\">\n",
              "  <thead>\n",
              "    <tr style=\"text-align: right;\">\n",
              "      <th></th>\n",
              "      <th>Id</th>\n",
              "      <th>ProductId</th>\n",
              "      <th>UserId</th>\n",
              "      <th>ProfileName</th>\n",
              "      <th>HelpfulnessNumerator</th>\n",
              "      <th>HelpfulnessDenominator</th>\n",
              "      <th>Score</th>\n",
              "      <th>Time</th>\n",
              "      <th>Summary</th>\n",
              "      <th>Text</th>\n",
              "    </tr>\n",
              "  </thead>\n",
              "  <tbody>\n",
              "    <tr>\n",
              "      <th>0</th>\n",
              "      <td>1</td>\n",
              "      <td>B001E4KFG0</td>\n",
              "      <td>A3SGXH7AUHU8GW</td>\n",
              "      <td>delmartian</td>\n",
              "      <td>1</td>\n",
              "      <td>1</td>\n",
              "      <td>5</td>\n",
              "      <td>1303862400</td>\n",
              "      <td>Good Quality Dog Food</td>\n",
              "      <td>I have bought several of the Vitality canned d...</td>\n",
              "    </tr>\n",
              "    <tr>\n",
              "      <th>1</th>\n",
              "      <td>2</td>\n",
              "      <td>B00813GRG4</td>\n",
              "      <td>A1D87F6ZCVE5NK</td>\n",
              "      <td>dll pa</td>\n",
              "      <td>0</td>\n",
              "      <td>0</td>\n",
              "      <td>1</td>\n",
              "      <td>1346976000</td>\n",
              "      <td>Not as Advertised</td>\n",
              "      <td>Product arrived labeled as Jumbo Salted Peanut...</td>\n",
              "    </tr>\n",
              "  </tbody>\n",
              "</table>\n",
              "</div>\n",
              "      <button class=\"colab-df-convert\" onclick=\"convertToInteractive('df-2afa6101-cbcb-4027-a112-7267a6aed43d')\"\n",
              "              title=\"Convert this dataframe to an interactive table.\"\n",
              "              style=\"display:none;\">\n",
              "        \n",
              "  <svg xmlns=\"http://www.w3.org/2000/svg\" height=\"24px\"viewBox=\"0 0 24 24\"\n",
              "       width=\"24px\">\n",
              "    <path d=\"M0 0h24v24H0V0z\" fill=\"none\"/>\n",
              "    <path d=\"M18.56 5.44l.94 2.06.94-2.06 2.06-.94-2.06-.94-.94-2.06-.94 2.06-2.06.94zm-11 1L8.5 8.5l.94-2.06 2.06-.94-2.06-.94L8.5 2.5l-.94 2.06-2.06.94zm10 10l.94 2.06.94-2.06 2.06-.94-2.06-.94-.94-2.06-.94 2.06-2.06.94z\"/><path d=\"M17.41 7.96l-1.37-1.37c-.4-.4-.92-.59-1.43-.59-.52 0-1.04.2-1.43.59L10.3 9.45l-7.72 7.72c-.78.78-.78 2.05 0 2.83L4 21.41c.39.39.9.59 1.41.59.51 0 1.02-.2 1.41-.59l7.78-7.78 2.81-2.81c.8-.78.8-2.07 0-2.86zM5.41 20L4 18.59l7.72-7.72 1.47 1.35L5.41 20z\"/>\n",
              "  </svg>\n",
              "      </button>\n",
              "      \n",
              "  <style>\n",
              "    .colab-df-container {\n",
              "      display:flex;\n",
              "      flex-wrap:wrap;\n",
              "      gap: 12px;\n",
              "    }\n",
              "\n",
              "    .colab-df-convert {\n",
              "      background-color: #E8F0FE;\n",
              "      border: none;\n",
              "      border-radius: 50%;\n",
              "      cursor: pointer;\n",
              "      display: none;\n",
              "      fill: #1967D2;\n",
              "      height: 32px;\n",
              "      padding: 0 0 0 0;\n",
              "      width: 32px;\n",
              "    }\n",
              "\n",
              "    .colab-df-convert:hover {\n",
              "      background-color: #E2EBFA;\n",
              "      box-shadow: 0px 1px 2px rgba(60, 64, 67, 0.3), 0px 1px 3px 1px rgba(60, 64, 67, 0.15);\n",
              "      fill: #174EA6;\n",
              "    }\n",
              "\n",
              "    [theme=dark] .colab-df-convert {\n",
              "      background-color: #3B4455;\n",
              "      fill: #D2E3FC;\n",
              "    }\n",
              "\n",
              "    [theme=dark] .colab-df-convert:hover {\n",
              "      background-color: #434B5C;\n",
              "      box-shadow: 0px 1px 3px 1px rgba(0, 0, 0, 0.15);\n",
              "      filter: drop-shadow(0px 1px 2px rgba(0, 0, 0, 0.3));\n",
              "      fill: #FFFFFF;\n",
              "    }\n",
              "  </style>\n",
              "\n",
              "      <script>\n",
              "        const buttonEl =\n",
              "          document.querySelector('#df-2afa6101-cbcb-4027-a112-7267a6aed43d button.colab-df-convert');\n",
              "        buttonEl.style.display =\n",
              "          google.colab.kernel.accessAllowed ? 'block' : 'none';\n",
              "\n",
              "        async function convertToInteractive(key) {\n",
              "          const element = document.querySelector('#df-2afa6101-cbcb-4027-a112-7267a6aed43d');\n",
              "          const dataTable =\n",
              "            await google.colab.kernel.invokeFunction('convertToInteractive',\n",
              "                                                     [key], {});\n",
              "          if (!dataTable) return;\n",
              "\n",
              "          const docLinkHtml = 'Like what you see? Visit the ' +\n",
              "            '<a target=\"_blank\" href=https://colab.research.google.com/notebooks/data_table.ipynb>data table notebook</a>'\n",
              "            + ' to learn more about interactive tables.';\n",
              "          element.innerHTML = '';\n",
              "          dataTable['output_type'] = 'display_data';\n",
              "          await google.colab.output.renderOutput(dataTable, element);\n",
              "          const docLink = document.createElement('div');\n",
              "          docLink.innerHTML = docLinkHtml;\n",
              "          element.appendChild(docLink);\n",
              "        }\n",
              "      </script>\n",
              "    </div>\n",
              "  </div>\n",
              "  "
            ]
          },
          "metadata": {},
          "execution_count": 4
        }
      ],
      "source": [
        "df = pd.read_csv('/content/gdrive/MyDrive/GTMSA/Text Mining/project/Reviews.csv')\n",
        "df.head(2)"
      ]
    },
    {
      "cell_type": "code",
      "execution_count": null,
      "metadata": {
        "id": "D_sdbEJ2JGkR"
      },
      "outputs": [],
      "source": [
        "ratings = df[['UserId', 'ProductId', 'Score']]"
      ]
    },
    {
      "cell_type": "code",
      "execution_count": null,
      "metadata": {
        "colab": {
          "base_uri": "https://localhost:8080/"
        },
        "id": "eTLr_XySpbUG",
        "outputId": "ec8ba9e0-d7cf-4b38-a9f0-273c87a990d1"
      },
      "outputs": [
        {
          "output_type": "execute_result",
          "data": {
            "text/plain": [
              "568454"
            ]
          },
          "metadata": {},
          "execution_count": 6
        }
      ],
      "source": [
        "len(ratings)"
      ]
    },
    {
      "cell_type": "markdown",
      "metadata": {
        "id": "QVggby7XDQx3"
      },
      "source": [
        "Matrix Factorization-Based Algorithms"
      ]
    },
    {
      "cell_type": "code",
      "execution_count": null,
      "metadata": {
        "id": "ngdeUmDnfQJr"
      },
      "outputs": [],
      "source": [
        "# try surprise package\n",
        "from surprise import Reader, SVDpp, accuracy, Dataset\n",
        "from surprise.model_selection import cross_validate\n",
        "from surprise.model_selection import GridSearchCV\n",
        "from surprise.model_selection import GridSearchCV, train_test_split\n",
        "\n",
        "\n",
        "# when importing from a DF, only need to specify the scale of the ratings.\n",
        "reader = Reader(rating_scale=(1,5)) \n",
        "#Initialize a recommender instance and apply its function using surprise:\n",
        "dataset = Dataset.load_from_df(ratings, reader)\n",
        "trainset, testset = train_test_split(dataset, test_size=0.25)"
      ]
    },
    {
      "cell_type": "markdown",
      "metadata": {
        "id": "OXdMnp56D1EM"
      },
      "source": [
        "Hyper-tuning for SVDpp parameters\n",
        "- n factors: 50, 60 （50 better than 55, (50 better than 40)， (60 better than 70), 50 better than 45）(49 better than 48) (50 better than 49)\n",
        "- n_epochs: 35, 40 (35 is better than 40)\n",
        "- lr_all: 0.085 (0.25 better than 0.3) (0.12 better than 0.25) (0.09 better than 0.12) (0.085 better than 0.09)\n",
        "- reg_all: 0.051 （0.1 better than 0.05）(0.08 better than 0.1) 0.07 better than 0.08 (0.06 better than 0.07)"
      ]
    },
    {
      "cell_type": "markdown",
      "source": [
        "Grid Search Method"
      ],
      "metadata": {
        "id": "KKXS0CnxDih9"
      }
    },
    {
      "cell_type": "code",
      "execution_count": null,
      "metadata": {
        "colab": {
          "base_uri": "https://localhost:8080/"
        },
        "id": "YMSQtcVLPTV9",
        "outputId": "81eccc3d-a74e-48e9-9d55-bd225b6699c7"
      },
      "outputs": [
        {
          "output_type": "stream",
          "name": "stdout",
          "text": [
            "Best RMSE:  0.9995167619814358\n",
            "Best hyperparameters:  {'n_factors': 50, 'n_epochs': 35, 'lr_all': 0.085, 'reg_all': 0.06, 'random_state': 10086}\n"
          ]
        }
      ],
      "source": [
        "# Define the hyperparameter grid\n",
        "# SVDpp with sgd, use gridsearch to tune parameters\n",
        "\n",
        "param_grid = {\n",
        "    'n_factors': [50],\n",
        "    'n_epochs': [35],\n",
        "    'lr_all': [0.085],\n",
        "    'reg_all': [0.06],\n",
        "    'random_state': [10086]\n",
        "}\n",
        "# Choose the best model\n",
        "grid_search = GridSearchCV(SVDpp, param_grid, measures=['rmse'], cv=8, n_jobs=-1)\n",
        "\n",
        "grid_search.fit(dataset)\n",
        "\n",
        "# best RMSE score\n",
        "print(\"Best RMSE: \", grid_search.best_score['rmse'])\n",
        "\n",
        "# combination of parameters that gave the best RMSE score\n",
        "print(\"Best hyperparameters: \", grid_search.best_params['rmse'])"
      ]
    },
    {
      "cell_type": "markdown",
      "source": [
        "Train the SVDpp model and use the optimial parameters on the train set"
      ],
      "metadata": {
        "id": "8_5CaTJw74JG"
      }
    },
    {
      "cell_type": "code",
      "execution_count": null,
      "metadata": {
        "colab": {
          "base_uri": "https://localhost:8080/"
        },
        "id": "BZpf-RpxZUPc",
        "outputId": "bdcc54dd-8d2e-4989-f95a-b3a7b7890915"
      },
      "outputs": [
        {
          "output_type": "stream",
          "name": "stdout",
          "text": [
            "RMSE: 1.0168\n",
            "RMSE on testset: 1.0168002535825797\n"
          ]
        }
      ],
      "source": [
        "# Train the SVDpp algorithm using the best parameters on the trainset\n",
        "algo = SVDpp(**grid_search.best_params['rmse'])\n",
        "algo.fit(trainset)\n",
        "\n",
        "# Test the trained model on the testset\n",
        "predictions = algo.test(testset)\n",
        "\n",
        "# Calculate RMSE for the testset predictions\n",
        "rmse = accuracy.rmse(predictions)\n",
        "print(\"RMSE on testset:\", rmse)"
      ]
    },
    {
      "cell_type": "code",
      "execution_count": null,
      "metadata": {
        "id": "rKxoYaZzDZQI",
        "colab": {
          "base_uri": "https://localhost:8080/",
          "height": 1000
        },
        "outputId": "c25a599f-f2ce-4e54-db60-b827f266101d"
      },
      "outputs": [
        {
          "output_type": "stream",
          "name": "stdout",
          "text": [
            "User ID: A3SGXH7AUHU8GW,\n",
            " Item ID: B001E4KFG0,\n",
            "  Predicted Score: 4.98,\n",
            "  Actual Rating: 5\n",
            "User ID: A1D87F6ZCVE5NK,\n",
            " Item ID: B00813GRG4,\n",
            "  Predicted Score: 1.04,\n",
            "  Actual Rating: 1\n",
            "User ID: ABXLMWJIXXAIN,\n",
            " Item ID: B000LQOCH0,\n",
            "  Predicted Score: 4.01,\n",
            "  Actual Rating: 4\n",
            "User ID: A395BORC6FGVXV,\n",
            " Item ID: B000UA0QIQ,\n",
            "  Predicted Score: 2.04,\n",
            "  Actual Rating: 2\n",
            "User ID: A1UQRSCLF8GW1T,\n",
            " Item ID: B006K2ZZ7K,\n",
            "  Predicted Score: 5.00,\n",
            "  Actual Rating: 5\n",
            "User ID: ADT0SRK1MGOEU,\n",
            " Item ID: B006K2ZZ7K,\n",
            "  Predicted Score: 4.54,\n",
            "  Actual Rating: 4\n",
            "User ID: A1SP2KVKFXXRU1,\n",
            " Item ID: B006K2ZZ7K,\n",
            "  Predicted Score: 4.93,\n",
            "  Actual Rating: 5\n",
            "User ID: A3JRGQVEQN31IQ,\n",
            " Item ID: B006K2ZZ7K,\n",
            "  Predicted Score: 4.99,\n",
            "  Actual Rating: 5\n",
            "User ID: A1MZYO9TZK0BBI,\n",
            " Item ID: B000E7L2R4,\n",
            "  Predicted Score: 4.18,\n",
            "  Actual Rating: 5\n",
            "User ID: A21BT40VZCCYT4,\n",
            " Item ID: B00171APVA,\n",
            "  Predicted Score: 4.98,\n",
            "  Actual Rating: 5\n",
            "User ID: A3HDKO7OW0QNK4,\n",
            " Item ID: B0001PB9FE,\n",
            "  Predicted Score: 4.97,\n",
            "  Actual Rating: 5\n",
            "User ID: A2725IB4YY9JEB,\n",
            " Item ID: B0009XLVG0,\n",
            "  Predicted Score: 4.92,\n",
            "  Actual Rating: 5\n",
            "User ID: A327PCT23YH90,\n",
            " Item ID: B0009XLVG0,\n",
            "  Predicted Score: 1.06,\n",
            "  Actual Rating: 1\n",
            "User ID: A18ECVX2RJ7HUE,\n",
            " Item ID: B001GVISJM,\n",
            "  Predicted Score: 4.05,\n",
            "  Actual Rating: 4\n",
            "User ID: A2MUGFV2TDQ47K,\n",
            " Item ID: B001GVISJM,\n",
            "  Predicted Score: 3.66,\n",
            "  Actual Rating: 5\n",
            "User ID: A1CZX3CP8IKQIJ,\n",
            " Item ID: B001GVISJM,\n",
            "  Predicted Score: 4.97,\n",
            "  Actual Rating: 5\n",
            "User ID: A3KLWF6WQ5BNYO,\n",
            " Item ID: B001GVISJM,\n",
            "  Predicted Score: 2.11,\n",
            "  Actual Rating: 2\n",
            "User ID: AFKW14U97Z6QO,\n",
            " Item ID: B001GVISJM,\n",
            "  Predicted Score: 4.98,\n",
            "  Actual Rating: 5\n",
            "User ID: A2A9X58G2GTBLP,\n",
            " Item ID: B001GVISJM,\n",
            "  Predicted Score: 4.90,\n",
            "  Actual Rating: 5\n",
            "User ID: A3IV7CL2C13K2U,\n",
            " Item ID: B001GVISJM,\n",
            "  Predicted Score: 4.95,\n",
            "  Actual Rating: 5\n"
          ]
        },
        {
          "output_type": "display_data",
          "data": {
            "text/plain": [
              "<Figure size 640x480 with 1 Axes>"
            ],
            "image/png": "[encoded data removed]"
          },
          "metadata": {}
        }
      ],
      "source": [
        "# Get the first 20 records\n",
        "first_20_records = ratings.iloc[:20]\n",
        "\n",
        "predictions = []\n",
        "for _, row in first_20_records.iterrows():\n",
        "    user_id = row['UserId']\n",
        "    item_id = row['ProductId']\n",
        "    true_rating = row['Score']\n",
        "    pred_rating = algo.predict(user_id, item_id).est\n",
        "    predictions.append(pred_rating)\n",
        "    print(f\"User ID: {user_id},\\n Item ID: {item_id},\\n  Predicted Score: {pred_rating:.2f},\\n  Actual Rating: {true_rating}\")\n",
        "\n",
        "\n",
        "actual_ratings = first_20_records['Score'].tolist()\n",
        "\n",
        "# Plot the comparison between actual and predicted ratings\n",
        "plt.plot(actual_ratings, label='Actual Ratings', marker='o', linestyle='-')\n",
        "plt.plot(predictions, label='Predicted Ratings', marker='x', linestyle='--')\n",
        "plt.xlabel('Record Index')\n",
        "plt.ylabel('Rating Score')\n",
        "plt.legend()\n",
        "plt.title('Comparison of Actual and Predicted Ratings for the First 20 Records')\n",
        "plt.show()"
      ]
    },
    {
      "cell_type": "code",
      "execution_count": null,
      "metadata": {
        "id": "hIOoZvESPT8F"
      },
      "outputs": [],
      "source": []
    },
    {
      "cell_type": "code",
      "execution_count": null,
      "metadata": {
        "id": "_Fjevis7FJT3"
      },
      "outputs": [],
      "source": []
    }
  ],
  "metadata": {
    "accelerator": "GPU",
    "colab": {
      "provenance": [],
      "machine_shape": "hm"
    },
    "gpuClass": "standard",
    "kernelspec": {
      "display_name": "Python 3",
      "name": "python3"
    },
    "language_info": {
      "name": "python"
    }
  },
  "nbformat": 4,
  "nbformat_minor": 0
}
