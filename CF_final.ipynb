{
 "cells": [
  {
   "cell_type": "code",
   "execution_count": 4,
   "id": "bb31dab4",
   "metadata": {},
   "outputs": [],
   "source": [
    "import pandas as pd\n",
    "import os\n",
    "import numpy as np\n",
    "from sklearn.preprocessing import MinMaxScaler\n",
    "from sklearn.model_selection import train_test_split\n",
    "from sklearn.metrics import mean_squared_error\n",
    "import matplotlib.pyplot as plt"
   ]
  },
  {
   "cell_type": "code",
   "execution_count": 6,
   "id": "e392945a",
   "metadata": {},
   "outputs": [],
   "source": [
    "current_directory = os.getcwd()\n",
    "current_directory\n",
    "new_directory = \"/Users/cl/Downloads/CSE 6240/final project\"\n",
    "os.chdir(new_directory)"
   ]
  },
  {
   "cell_type": "code",
   "execution_count": 8,
   "id": "0346679b",
   "metadata": {},
   "outputs": [],
   "source": [
    "data = pd.read_csv(\"Reviews.csv\")"
   ]
  },
  {
   "cell_type": "markdown",
   "id": "047d50e8",
   "metadata": {},
   "source": [
    "Define the helper function"
   ]
  },
  {
   "cell_type": "code",
   "execution_count": 18,
   "id": "5ad151f7",
   "metadata": {},
   "outputs": [],
   "source": [
    "#keep only the number of user and item bigger than 10\n",
    "def data_clean(df, feature, m):\n",
    "    count = df.groupby(feature).size()\n",
    "    valid_items = count[count > m].index\n",
    "    return df[df[feature].isin(valid_items)]\n",
    "\n",
    "def data_clean_sum(df, features, m):\n",
    "    df['#Products'] = df.groupby('ProductId')['ProductId'].transform('count')\n",
    "    df['#Users'] = df.groupby('UserId')['UserId'].transform('count')\n",
    "    \n",
    "    while df[features[0]].value_counts(ascending=True).iloc[0] < m or df[features[1]].value_counts(ascending=True).iloc[0] < m:\n",
    "        df = data_clean(df, features[0], m)\n",
    "        df = data_clean(df, features[1], m)\n",
    "        \n",
    "    return df"
   ]
  },
  {
   "cell_type": "markdown",
   "id": "57c94e03",
   "metadata": {},
   "source": [
    "Generate the user item table"
   ]
  },
  {
   "cell_type": "code",
   "execution_count": 43,
   "id": "28ab15d0",
   "metadata": {},
   "outputs": [
    {
     "name": "stdout",
     "output_type": "stream",
     "text": [
      "Loading data...\n",
      "The table's shape is:\n",
      "(3666, 1102)\n"
     ]
    }
   ],
   "source": [
    "def load_data(file_path):\n",
    "    print(\"Loading data...\")\n",
    "    df = pd.read_csv(file_path)\n",
    "    df['datetime'] = pd.to_datetime(df.Time, unit='s')\n",
    "    return df\n",
    "\n",
    "def preprocess_data(df, min_count):\n",
    "    raw_data = data_clean_sum(df, ['ProductId', 'UserId'], min_count)\n",
    "    #mmake numerical representations of the user and product IDs\n",
    "    raw_data['uid'] = pd.factorize(raw_data['UserId'])[0]\n",
    "    raw_data['pid'] = pd.factorize(raw_data['ProductId'])[0]\n",
    "\n",
    "    return raw_data\n",
    "\n",
    "def create_datasets(raw_data):\n",
    "    X1 = raw_data.loc[:, ['uid', 'pid']]\n",
    "    # give reviews that found useful by more people higher weight\n",
    "    weight = raw_data.HelpfulnessNumerator / (raw_data.HelpfulnessDenominator + 1e-8)\n",
    "    y = raw_data.Score * weight\n",
    "    #y = raw_data.Score\n",
    "\n",
    "    y.name = 'ScoreWeighted'  # Set a name for the 'y' Series\n",
    "    X1_train, X1_test, y_train, y_test = train_test_split(X1, y, test_size=0.3, random_state=2017)\n",
    "    train = np.array(X1_train.join(y_train))\n",
    "    test = np.array(X1_test.join(y_test))\n",
    "\n",
    "    return train, test, X1, y\n",
    "\n",
    "def create_user_item_table(data_mixed, total_u, total_p):\n",
    "    table = np.zeros([total_u, total_p])\n",
    "    z = np.array(data_mixed)\n",
    "    #make sure that it will keep the highest value of the product if user give multiole values of one product\n",
    "    for line in z:\n",
    "        u, p, s = line\n",
    "        u, p = int(u), int(p)\n",
    "        if table[u][p] < s:\n",
    "            table[u][p] = s\n",
    "\n",
    "    return table\n",
    "\n",
    "def data():\n",
    "    file_path = '/Users/cl/Downloads/CSE 6240/final project/Reviews.csv'\n",
    "    df = load_data(file_path)\n",
    "    raw_data = preprocess_data(df, 10)\n",
    "    train, test, data_mixed, y = create_datasets(raw_data)\n",
    "    \n",
    "    pid2PID = raw_data.ProductId.unique()\n",
    "    total_p = data_mixed['pid'].unique().shape[0]\n",
    "    total_u = data_mixed['uid'].unique().shape[0]\n",
    "    \n",
    "    table = create_user_item_table(data_mixed.join(y), total_u, total_p)\n",
    "    print(\"The table's shape is:\")\n",
    "    print(table.shape)\n",
    "    \n",
    "    return data_mixed, total_u, total_p, pid2PID, train, test, table, raw_data\n",
    "\n",
    "z, total_u, total_p, pid2PID, train, test, table, raw_data = data()\n"
   ]
  },
  {
   "cell_type": "markdown",
   "id": "f5c86a35",
   "metadata": {},
   "source": [
    "Evaluation function"
   ]
  },
  {
   "cell_type": "code",
   "execution_count": 92,
   "id": "571c899d",
   "metadata": {},
   "outputs": [],
   "source": [
    "def caculate_mse(x):\n",
    "    true_rating_train=[]\n",
    "    predicted_train=[]\n",
    "    for line in train:\n",
    "        u,p,s = line\n",
    "        true_rating_train.append(s)\n",
    "        predicted_train.append(x[u,p])\n",
    "    MSE_train_sample = mean_squared_error(true_rating_train,predicted_train)\n",
    "    true_rating_test = []\n",
    "    predicted_test = []\n",
    "    for line in test:\n",
    "        u,p,s = line\n",
    "        true_rating_test.append(s)\n",
    "        predicted_test.append(x[u,p])\n",
    "    MSE_test_sample = mean_squared_error(true_rating_test,predicted_test)\n",
    "    print('the in sample MSE = {} \\nthe out sample MSE = {}'.format(MSE_train_sample,MSE_test_sample))\n",
    "    return MSE_train_sample,MSE_test_sample"
   ]
  },
  {
   "cell_type": "code",
   "execution_count": 96,
   "id": "6c3ce623",
   "metadata": {},
   "outputs": [],
   "source": [
    "def plot_confusion_matrix(cm, classes,\n",
    "                              normalize=False,\n",
    "                              title='Confusion matrix',\n",
    "                              cmap=plt.cm.Blues):\n",
    "        \"\"\"\n",
    "        This function prints and plots the confusion matrix.\n",
    "        Normalization can be applied by setting `normalize=True`.\n",
    "        \"\"\"\n",
    "        if normalize:\n",
    "            cm = cm.astype('float') / cm.sum(axis=1)[:, np.newaxis]\n",
    "            print(\"Normalized confusion matrix\")\n",
    "        else:\n",
    "            print('Confusion matrix, without normalization')\n",
    "\n",
    "        print(cm)\n",
    "        plt.imshow(cm, interpolation='nearest', cmap=cmap)\n",
    "        plt.title(title)\n",
    "        plt.colorbar()\n",
    "        tick_marks = np.arange(len(classes))\n",
    "        plt.xticks(tick_marks, classes, rotation=45)\n",
    "        plt.yticks(tick_marks, classes)\n",
    "        \n",
    "        fmt = '.2f' if normalize else 'd'\n",
    "        thresh = cm.max() / 2.\n",
    "        for i, j in itertools.product(range(cm.shape[0]), range(cm.shape[1])):\n",
    "            plt.text(j, i, format(cm[i, j], fmt),\n",
    "                     horizontalalignment=\"center\",\n",
    "                     color=\"white\" if cm[i, j] > thresh else \"black\")\n",
    "\n",
    "        plt.tight_layout()\n",
    "        plt.ylabel('True label')\n",
    "        plt.xlabel('Predicted label')\n",
    "\n",
    "\n",
    "def drawcm(y_pred,y_test =test ,title=''):\n",
    "    print('caculating cm..')\n",
    "    y1=[]\n",
    "    y2=[]\n",
    "    for line in y_test:\n",
    "        u,p,s = line\n",
    "        y1.append(s)\n",
    "        y2.append(y_pred[u,p])\n",
    "    temp1 = []\n",
    "    temp2 = []\n",
    "    for i in range(len(y1)):\n",
    "        if np.array(y1)[i] >= 4:\n",
    "            temp1.append(1)\n",
    "        elif np.array(y1)[i] <= 2:\n",
    "            temp1.append(0)\n",
    "        else:\n",
    "            temp1.append(0)\n",
    "        if y2[i] >= 4:\n",
    "            temp2.append(1)\n",
    "        elif y2[i] <= 2:\n",
    "            temp2.append(0)\n",
    "        else:\n",
    "            temp2.append(0)\n",
    "    cm = confusion_matrix(temp1,temp2)\n",
    "    plt.figure()\n",
    "    plot_confusion_matrix(cm, classes=['not','recommand'], normalize=True,\n",
    "                          title=title)\n",
    "    plt.show()\n",
    "\n"
   ]
  },
  {
   "cell_type": "code",
   "execution_count": 97,
   "id": "884a11f5",
   "metadata": {},
   "outputs": [],
   "source": [
    "def rec(result, uid, n, rawId=False):\n",
    "    if uid in range(total_u):\n",
    "        # Get the indices of the top n recommended products for user uid\n",
    "        top_N_indices = np.argsort(result[uid])[-n:][::-1]\n",
    "        \n",
    "        # Print the top n recommended products\n",
    "        print(f'The top {n} recommended products for user {uid} are: {top_N_indices}')\n",
    "        \n",
    "        # If rawId is True, print the real product IDs\n",
    "        if rawId:\n",
    "            real_ids = pid2PID[top_N_indices]\n",
    "            print(f'The real IDs are: {real_ids}')\n",
    "    else:\n",
    "        print('This user has not bought anything, please use other methods.')\n",
    "    \n",
    "    return top_N_indices"
   ]
  },
  {
   "cell_type": "code",
   "execution_count": 98,
   "id": "405a9b34",
   "metadata": {},
   "outputs": [
    {
     "name": "stdout",
     "output_type": "stream",
     "text": [
      "the in sample MSE = 2.181532608112232 \n",
      "the out sample MSE = 2.2582779695854374\n",
      "caculating cm..\n",
      "Normalized confusion matrix\n",
      "[[0.42401961 0.57598039]\n",
      " [0.34159378 0.65840622]]\n"
     ]
    },
    {
     "data": {
      "image/png": "[encoded data removed]",
      "text/plain": [
       "<Figure size 640x480 with 2 Axes>"
      ]
     },
     "metadata": {},
     "output_type": "display_data"
    },
    {
     "name": "stdout",
     "output_type": "stream",
     "text": [
      "the top10 recommanded products for user 10 is [ 644  151  455   52 1072 1051  127 1067  106    0]\n",
      "the real ID is ['B0058AMYTC' 'B00472I5A4' 'B0058AMY10' 'B0058AMY74' 'B001SAXPEO'\n",
      " 'B006WYSFZK' 'B000G6MBUA' 'B004728MI4' 'B0012XBD7I' 'B000G6RYNE']\n"
     ]
    },
    {
     "data": {
      "text/plain": [
       "array([ 644,  151,  455,   52, 1072, 1051,  127, 1067,  106,    0])"
      ]
     },
     "execution_count": 98,
     "metadata": {},
     "output_type": "execute_result"
    }
   ],
   "source": [
    "from sklearn.metrics.pairwise import pairwise_distances\n",
    "def cf(table = table,distance = 'cosine'):\n",
    "    user_similarity = pairwise_distances(table, metric=distance)\n",
    "    item_similarity = pairwise_distances(table.T, metric=distance)\n",
    "    sc = MinMaxScaler(feature_range=(1,5))\n",
    "    #use the hybrid method\n",
    "    #R_pred = S_users * R * S_items*alpha*(1-alpha)\n",
    "    a = sc.fit_transform(0.25*np.dot(user_similarity,table).dot(item_similarity))\n",
    "    return a\n",
    "result =cf()\n",
    "caculate_mse(result)\n",
    "drawcm(result,title='MF')\n",
    "rec(result, 10,10,rawId= True)"
   ]
  },
  {
   "cell_type": "code",
   "execution_count": 103,
   "id": "80cb5fec",
   "metadata": {},
   "outputs": [
    {
     "name": "stdout",
     "output_type": "stream",
     "text": [
      "the in sample MSE = 9.246699513579118 \n",
      "the out sample MSE = 9.208863167941972\n",
      "caculating cm..\n",
      "Normalized confusion matrix\n",
      "[[0.99836601 0.00163399]\n",
      " [0.99722338 0.00277662]]\n"
     ]
    },
    {
     "data": {
      "image/png": "[encoded data removed]",
      "text/plain": [
       "<Figure size 640x480 with 2 Axes>"
      ]
     },
     "metadata": {},
     "output_type": "display_data"
    },
    {
     "name": "stdout",
     "output_type": "stream",
     "text": [
      "the top10 recommanded products for user 10 is [ 182  201   80  729  595 1093  155  448  996  243]\n",
      "the real ID is ['B004HOLD4W' 'B001EQ4QJK' 'B001EQ4P2I' 'B000ZSZ5S4' 'B004HOOZEW'\n",
      " 'B004HOSGWE' 'B001EQ4RBM' 'B001LNTY70' 'B004HOLD60' 'B001KVPBS4']\n"
     ]
    },
    {
     "data": {
      "text/plain": [
       "array([ 182,  201,   80,  729,  595, 1093,  155,  448,  996,  243])"
      ]
     },
     "execution_count": 103,
     "metadata": {},
     "output_type": "execute_result"
    }
   ],
   "source": [
    "from sklearn.metrics.pairwise import pairwise_distances\n",
    "from sklearn.preprocessing import MinMaxScaler\n",
    "\n",
    "def item_item_cf(table=table, distance='cosine'):\n",
    "    # Calculate item similarity matrix\n",
    "    item_similarity = pairwise_distances(table.T, metric=distance)\n",
    "\n",
    "    # Calculate the predicted ratings by combining item similarities with the ratings matrix\n",
    "    pred_ratings = table.dot(item_similarity) / np.array([np.abs(item_similarity).sum(axis=1)])\n",
    "\n",
    "    # Scale the predicted ratings to the range of 1-5\n",
    "    scaler = MinMaxScaler(feature_range=(1, 5))\n",
    "    pred_ratings_scaled = scaler.fit_transform(pred_ratings)\n",
    "    \n",
    "    return pred_ratings_scaled\n",
    "\n",
    "result = item_item_cf()\n",
    "caculate_mse(result)\n",
    "drawcm(result, title='Item-Item CF')\n",
    "rec(result, 10, 10, rawId=True)\n"
   ]
  },
  {
   "cell_type": "code",
   "execution_count": 102,
   "id": "a285bb05",
   "metadata": {},
   "outputs": [
    {
     "name": "stdout",
     "output_type": "stream",
     "text": [
      "the in sample MSE = 7.907049022696068 \n",
      "the out sample MSE = 7.881219303033639\n",
      "caculating cm..\n",
      "Normalized confusion matrix\n",
      "[[0.99795752 0.00204248]\n",
      " [0.99611273 0.00388727]]\n"
     ]
    },
    {
     "data": {
      "image/png": "[encoded data removed]",
      "text/plain": [
       "<Figure size 640x480 with 2 Axes>"
      ]
     },
     "metadata": {},
     "output_type": "display_data"
    },
    {
     "name": "stdout",
     "output_type": "stream",
     "text": [
      "the top10 recommanded products for user 10 is [ 729 1093  243  448  595   80  996  256  201   96]\n",
      "the real ID is ['B000ZSZ5S4' 'B004HOSGWE' 'B001KVPBS4' 'B001LNTY70' 'B004HOOZEW'\n",
      " 'B001EQ4P2I' 'B004HOLD60' 'B004HOQE64' 'B001EQ4QJK' 'B004HOLD92']\n"
     ]
    },
    {
     "data": {
      "text/plain": [
       "array([ 729, 1093,  243,  448,  595,   80,  996,  256,  201,   96])"
      ]
     },
     "execution_count": 102,
     "metadata": {},
     "output_type": "execute_result"
    }
   ],
   "source": [
    "from sklearn.metrics.pairwise import pairwise_distances\n",
    "from sklearn.preprocessing import MinMaxScaler\n",
    "\n",
    "def user_user_cf(table=table, distance='cosine'):\n",
    "    # Calculate user similarity matrix\n",
    "    user_similarity = pairwise_distances(table, metric=distance)\n",
    "    \n",
    "    # Normalize the similarity matrix, making sure diagonal elements are zero\n",
    "    mean_user_rating = table.mean(axis=1)\n",
    "    ratings_diff = (table - mean_user_rating[:, np.newaxis])\n",
    "    \n",
    "    # Calculate the predicted ratings by combining user similarities with the ratings matrix\n",
    "    pred_ratings = mean_user_rating[:, np.newaxis] + user_similarity.dot(ratings_diff) / np.array([np.abs(user_similarity).sum(axis=1)]).T\n",
    "\n",
    "    # Scale the predicted ratings to the range of 1-5\n",
    "    scaler = MinMaxScaler(feature_range=(1, 5))\n",
    "    pred_ratings_scaled = scaler.fit_transform(pred_ratings)\n",
    "    \n",
    "    return pred_ratings_scaled\n",
    "\n",
    "result = user_user_cf()\n",
    "caculate_mse(result)\n",
    "drawcm(result, title='User-User CF')\n",
    "rec(result, 10, 10, rawId=True)\n"
   ]
  },
  {
   "cell_type": "code",
   "execution_count": null,
   "id": "c323dd0a",
   "metadata": {},
   "outputs": [],
   "source": []
  }
 ],
 "metadata": {
  "kernelspec": {
   "display_name": "Python 3",
   "language": "python",
   "name": "python3"
  },
  "language_info": {
   "codemirror_mode": {
    "name": "ipython",
    "version": 3
   },
   "file_extension": ".py",
   "mimetype": "text/x-python",
   "name": "python",
   "nbconvert_exporter": "python",
   "pygments_lexer": "ipython3",
   "version": "3.8.5"
  }
 },
 "nbformat": 4,
 "nbformat_minor": 5
}
